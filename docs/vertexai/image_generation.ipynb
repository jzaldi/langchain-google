{
 "cells": [
  {
   "cell_type": "markdown",
   "metadata": {},
   "source": [
    "# VertexAI Image generation"
   ]
  },
  {
   "cell_type": "code",
   "execution_count": null,
   "metadata": {},
   "outputs": [],
   "source": [
    "from langchain_google_vertexai.imagegen import VertexAIImageGenerator\n",
    "\n",
    "model = VertexAIImageGenerator()\n",
    "\n",
    "prompt = \"\"\"\n",
    "    Generate an image of a parrot with the google logo colors.\n",
    "\"\"\"\n",
    "\n",
    "# Response is a base64 enconded string.\n",
    "response = model.invoke(prompt)\n",
    "\n",
    "markdown = Markdown(f\"![image.png](data:image/png;base64,{response})\")\n",
    "\n",
    "display(markdown)"
   ]
  }
 ],
 "metadata": {
  "kernelspec": {
   "display_name": "venv",
   "language": "python",
   "name": "python3"
  },
  "language_info": {
   "name": "python"
  }
 },
 "nbformat": 4,
 "nbformat_minor": 2
}
